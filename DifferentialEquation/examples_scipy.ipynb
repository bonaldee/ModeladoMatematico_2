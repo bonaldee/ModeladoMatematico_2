{
 "cells": [
  {
   "cell_type": "code",
   "execution_count": 2,
   "id": "24b59609",
   "metadata": {},
   "outputs": [],
   "source": [
    "import scipy as sp\n",
    "import numpy as np\n",
    "import matplotlib.pyplot as plt\n",
    "from scipy.integrate import solve_bvp\n",
    "import scipy.optimize as op"
   ]
  },
  {
   "cell_type": "markdown",
   "id": "82ee0ee8",
   "metadata": {},
   "source": [
    "### Bratu's problem `scipy`\n",
    "\n",
    "$$y''=ke^y=0$$ \n",
    "\n",
    "Con las condiciones de contorno $y(0)=0$ y $y(1)=0$ y $k=1$."
   ]
  },
  {
   "cell_type": "code",
   "execution_count": 3,
   "id": "15d727f2",
   "metadata": {},
   "outputs": [],
   "source": [
    "#equation as a first-order system and implement its right-hand side evaluation\n",
    "def fun(x, y):\n",
    "    return np.vstack((y[1], -np.exp(y[0])))\n",
    "\n",
    "#boundary condition residuals\n",
    "def bc(ya, yb):\n",
    "    return np.array([ya[0], yb[0]])"
   ]
  },
  {
   "cell_type": "code",
   "execution_count": 4,
   "id": "487d6de9",
   "metadata": {},
   "outputs": [],
   "source": [
    "x = np.linspace(0, 1, 5)\n",
    "y_a = np.zeros((2, x.size))\n",
    "y_b = np.zeros((2, x.size))\n",
    "y_b[0] = 3"
   ]
  },
  {
   "cell_type": "code",
   "execution_count": 5,
   "id": "cc2c8fb4",
   "metadata": {},
   "outputs": [],
   "source": [
    "res_a = solve_bvp(fun, bc, x, y_a)\n",
    "res_b = solve_bvp(fun, bc, x, y_b)"
   ]
  },
  {
   "cell_type": "code",
   "execution_count": 6,
   "id": "82269c0f",
   "metadata": {},
   "outputs": [
    {
     "data": {
      "image/png": "[encoded data removed]",
      "text/plain": [
       "<Figure size 432x288 with 1 Axes>"
      ]
     },
     "metadata": {
      "needs_background": "light"
     },
     "output_type": "display_data"
    }
   ],
   "source": [
    "x_plot = np.linspace(0, 1, 100)\n",
    "y_plot_a = res_a.sol(x_plot)[0]\n",
    "y_plot_b = res_b.sol(x_plot)[0]\n",
    "import matplotlib.pyplot as plt\n",
    "plt.plot(x_plot, y_plot_a, label='y_a')\n",
    "plt.plot(x_plot, y_plot_b, label='y_b')\n",
    "plt.legend()\n",
    "plt.xlabel(\"x\")\n",
    "plt.ylabel(\"y\")\n",
    "plt.show()"
   ]
  },
  {
   "cell_type": "markdown",
   "id": "8dbd477d",
   "metadata": {},
   "source": [
    "### Bratu's problem `dif_finitas`\n",
    "\n",
    "Vamos a resolver la misma ecuación diferencial $y''=ke^y=0$ con las condiciones de contorno $y(0)= y(1)=0$, utilizando el método de diferencias finitas.\n",
    "\n",
    "Utilizando $\\dfrac{d^2y}{dx^2}=\\dfrac{y_{i−1}−2y_i+y_{i+1}}{h^2}$, nos queda un sistema de ecuanciones no lineales de la forma:\n",
    "\n",
    "$$y_0 = 0$$\n",
    "\n",
    "$$y_0 - 2y_1 + y_2 = -h²e^{y_1} $$\n",
    "\n",
    "$$\\vdots$$\n",
    "\n",
    "$$y_{n-2} -2y_{n-1} + y_n = -h²e^{y_{n-1}}$$\n",
    "\n",
    "$$y_n=0$$"
   ]
  },
  {
   "cell_type": "code",
   "execution_count": 7,
   "id": "14b27257",
   "metadata": {},
   "outputs": [],
   "source": [
    "def funcion(y):\n",
    "    global n #numero de celdas\n",
    "    #n = 50  \n",
    "    K = 1   #constante en el problema\n",
    "    h = 1/n #tamaño de la celda\n",
    "    F = np.zeros(n+1)\n",
    "    #F[0]=0\n",
    "    F[0] = -2*y[0]+y[1]+h**2*K*np.exp(y[0])\n",
    "    #F[-1]=0\n",
    "    F[-1] = y[n-1]-2*y[n]+h**2*K*np.exp(y[n])\n",
    "    for i in range(1,n):\n",
    "        F[i] = y[i-1]-2*y[i]+y[i+1]+h**2*K*np.exp(y[i])\n",
    "    return F"
   ]
  },
  {
   "cell_type": "code",
   "execution_count": 8,
   "id": "87ddea89",
   "metadata": {},
   "outputs": [
    {
     "data": {
      "image/png": "[encoded data removed]",
      "text/plain": [
       "<Figure size 432x288 with 1 Axes>"
      ]
     },
     "metadata": {
      "needs_background": "light"
     },
     "output_type": "display_data"
    }
   ],
   "source": [
    "n = 50\n",
    "y0_a = np.zeros(n+1)\n",
    "y0_b = 3*np.ones(n+1)\n",
    "\n",
    "root_a = op.fsolve(funcion, y0_a)\n",
    "root_b = op.fsolve(funcion, y0_b)\n",
    "\n",
    "y_a = np.append(root_a,0) \n",
    "y_a = np.append(0,y_a)\n",
    "#print(y_a)\n",
    "\n",
    "y_b = np.append(root_b,0) \n",
    "y_b = np.append(0,y_b)\n",
    "\n",
    "\n",
    "x = np.linspace(0,1,n+3)\n",
    "plt.plot(x,y_a, label='y_a')\n",
    "plt.plot(x,y_b, label='y_b')\n",
    "plt.legend()\n",
    "plt.show()"
   ]
  },
  {
   "cell_type": "markdown",
   "id": "09261a64",
   "metadata": {},
   "source": [
    "### Sturm-Liouville problem `scipy`\n",
    "\n",
    "$$y''+k²y=0=$$\n",
    "\n",
    "Con las condiciones iniciales $y(0) = y(1) =0$."
   ]
  },
  {
   "cell_type": "code",
   "execution_count": 9,
   "id": "65a30a77",
   "metadata": {},
   "outputs": [],
   "source": [
    "def fun(x, y, p):\n",
    "    k = p[0]\n",
    "    return np.vstack((y[1], -k**2 * y[0]))\n",
    "\n",
    "def bc(ya, yb, p):\n",
    "    k = p[0]\n",
    "    return np.array([ya[0], yb[0], ya[1] - k])"
   ]
  },
  {
   "cell_type": "code",
   "execution_count": 10,
   "id": "f718a3ef",
   "metadata": {},
   "outputs": [],
   "source": [
    "x = np.linspace(0, 1, 5)\n",
    "y = np.zeros((2, x.size))\n",
    "y[0, 1] = 1\n",
    "y[0, 3] = -1\n",
    "\n",
    "sol = solve_bvp(fun, bc, x, y, p=[6])"
   ]
  },
  {
   "cell_type": "code",
   "execution_count": 12,
   "id": "e2ff2983",
   "metadata": {},
   "outputs": [
    {
     "data": {
      "image/png": "[encoded data removed]",
      "text/plain": [
       "<Figure size 432x288 with 1 Axes>"
      ]
     },
     "metadata": {
      "needs_background": "light"
     },
     "output_type": "display_data"
    }
   ],
   "source": [
    "x_plot = np.linspace(0, 1, 100)\n",
    "y_plot = sol.sol(x_plot)[0]\n",
    "plt.plot(x_plot, y_plot)\n",
    "plt.xlabel(\"x\")\n",
    "plt.ylabel(\"y\")\n",
    "plt.show()"
   ]
  },
  {
   "cell_type": "markdown",
   "id": "bdca59d3",
   "metadata": {},
   "source": [
    "### Sturm-Liouville problem `dif_finitas`\n",
    "\n",
    "Utilizando $\\dfrac{d^2y}{dx^2}=\\dfrac{y_{i−1}−2y_i+y_{i+1}}{h^2}$, nos queda un sistema de ecuanciones lineales de la forma:\n",
    "\n",
    "$$y_0 = 0$$\n",
    "\n",
    "$$y_0 + (-2+k²h²)y_1 + y_2 = 0 $$\n",
    "\n",
    "$$\\vdots$$\n",
    "\n",
    "$$y_{n-2} + (-2+k²h²)y_{n-1} + y_n = 0$$\n",
    "\n",
    "$$y_n=0$$"
   ]
  },
  {
   "cell_type": "code",
   "execution_count": 30,
   "id": "8041083c",
   "metadata": {},
   "outputs": [
    {
     "data": {
      "image/png": "[encoded data removed]",
      "text/plain": [
       "<Figure size 720x576 with 1 Axes>"
      ]
     },
     "metadata": {
      "needs_background": "light"
     },
     "output_type": "display_data"
    }
   ],
   "source": [
    "n = 100\n",
    "h = 1/n\n",
    "k = 6*np.pi\n",
    "\n",
    "# Get A\n",
    "A = np.zeros((n+1, n+1))\n",
    "A[0, 0] = 1\n",
    "A[n, n] = 1\n",
    "for i in range(1, n):\n",
    "    A[i, i-1] = 1\n",
    "    A[i, i] = -2+(k*h)**2\n",
    "    A[i, i+1] = 1\n",
    "#print(A)\n",
    "\n",
    "# Get b\n",
    "b = np.zeros(n+1)\n",
    "#b[0]=0.025\n",
    "#print(b)\n",
    "\n",
    "# solve the linear equations\n",
    "y = np.linalg.solve(A, b)\n",
    "\n",
    "x = np.linspace(0, 1, n+1)\n",
    "\n",
    "plt.figure(figsize=(10,8))\n",
    "plt.plot(x, y)\n",
    "plt.show()"
   ]
  },
  {
   "cell_type": "markdown",
   "id": "38bf8c13",
   "metadata": {},
   "source": [
    "¿Cómo hacer para que me bote la solución no trivial? $y=A\\sin(kx)$ con $k=n \\pi$"
   ]
  },
  {
   "cell_type": "code",
   "execution_count": null,
   "id": "4fba26f6",
   "metadata": {},
   "outputs": [],
   "source": []
  }
 ],
 "metadata": {
  "kernelspec": {
   "display_name": "Python 3",
   "language": "python",
   "name": "python3"
  },
  "language_info": {
   "codemirror_mode": {
    "name": "ipython",
    "version": 3
   },
   "file_extension": ".py",
   "mimetype": "text/x-python",
   "name": "python",
   "nbconvert_exporter": "python",
   "pygments_lexer": "ipython3",
   "version": "3.8.8"
  }
 },
 "nbformat": 4,
 "nbformat_minor": 5
}
